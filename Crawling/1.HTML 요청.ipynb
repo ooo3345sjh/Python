{
 "cells": [
  {
   "cell_type": "code",
   "execution_count": 7,
   "metadata": {},
   "outputs": [],
   "source": [
    "\"\"\"\n",
    "날짜 : 2023/01/16\n",
    "이름 : 서정현\n",
    "내용 : 파이썬 HTML 요청 실습하기\n",
    "\"\"\"\n",
    "# 외부라이브러리 pip install requests\n",
    "import requests as req\n",
    "from bs4 import BeautifulSoup as bs\n"
   ]
  },
  {
   "cell_type": "code",
   "execution_count": 9,
   "metadata": {},
   "outputs": [
    {
     "name": "stdout",
     "output_type": "stream",
     "text": [
      "<!DOCTYPE html>\n",
      "    <html>\n",
      "        <head>\n",
      "            <meta charset=\"UTF-8\" />\n",
      "            <title>스크래핑</title>\n",
      "        </head>\n",
      "        <body>\n",
      "            <h1 id=\"tit\">스크래핑이란?</h1>\n",
      "            <p id=\"txt\">웹페이지에서 데이터를 추출</p>\n",
      "\t\t\t\n",
      "\t\t\t<ul>\n",
      "\t\t\t\t<li>자바</li>\n",
      "\t\t\t\t<li>JSP</li>\n",
      "\t\t\t\t<li>데이터베이스</li>\n",
      "\t\t\t\t<li>HTML/jQuery</li>\n",
      "\t\t\t\t<li>빅데이터</li>    \n",
      "\t\t\t</ul>\n",
      "        </body>    \n",
      "    </html>\n"
     ]
    }
   ],
   "source": [
    "# HTML 요청\n",
    "url = 'http://chhak.click/parsing/sample2.html'\n",
    "html = req.get(url).text\n",
    "print(html)"
   ]
  },
  {
   "cell_type": "code",
   "execution_count": null,
   "metadata": {},
   "outputs": [],
   "source": [
    "# 문서객체 생성\n",
    "dom = bs(html, 'html.parser')\n",
    "print(dom)"
   ]
  },
  {
   "cell_type": "code",
   "execution_count": 22,
   "metadata": {},
   "outputs": [
    {
     "name": "stdout",
     "output_type": "stream",
     "text": [
      "tit : 스크래핑이란?\n",
      "txt : 웹페이지에서 데이터를 추출\n",
      "list : 자바\n",
      "list : JSP\n",
      "list : 데이터베이스\n",
      "list : HTML/jQuery\n",
      "list : 빅데이터\n"
     ]
    }
   ],
   "source": [
    "# 데이터 파싱\n",
    "tit = dom.html.body.h1.text\n",
    "txt = dom.select_one('#txt').text\n",
    "lists = dom.select('ul > li')\n",
    "print(\"tit :\", tit)\n",
    "print(\"txt :\", txt)\n",
    "\n",
    "for list in lists:\n",
    "    print(\"list :\", list.text)\n"
   ]
  }
 ],
 "metadata": {
  "kernelspec": {
   "display_name": "Python 3",
   "language": "python",
   "name": "python3"
  },
  "language_info": {
   "codemirror_mode": {
    "name": "ipython",
    "version": 3
   },
   "file_extension": ".py",
   "mimetype": "text/x-python",
   "name": "python",
   "nbconvert_exporter": "python",
   "pygments_lexer": "ipython3",
   "version": "3.11.1"
  },
  "orig_nbformat": 4,
  "vscode": {
   "interpreter": {
    "hash": "5868237a719c5308d34c8911a17794e6baa898a055f8bd5fbd9df195d03bb563"
   }
  }
 },
 "nbformat": 4,
 "nbformat_minor": 2
}
