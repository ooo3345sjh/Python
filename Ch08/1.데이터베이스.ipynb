{
 "cells": [
  {
   "cell_type": "code",
   "execution_count": 1,
   "metadata": {},
   "outputs": [],
   "source": [
    "\"\"\"\n",
    "날짜 : 2023/01/13\n",
    "이름 : 서정현\n",
    "내용 : 파이썬 데이터베이스 프로그래밍 실습\n",
    "\"\"\"\n",
    "\n",
    "import pymysql"
   ]
  },
  {
   "cell_type": "code",
   "execution_count": 2,
   "metadata": {},
   "outputs": [
    {
     "name": "stdout",
     "output_type": "stream",
     "text": [
      "insert 완료...\n"
     ]
    }
   ],
   "source": [
    "# insert 실습\n",
    "# 데이터베이스 접속\n",
    "conn = pymysql.connect(host='127.0.0.1', \n",
    "                        user='root', \n",
    "                        password='1234', \n",
    "                        db='java2db', \n",
    "                        charset='utf8')\n",
    "\n",
    "# SQL 실행객체\n",
    "cur = conn.cursor()\n",
    "\n",
    "# SQL 실행\n",
    "sql = \"INSERT INTO `user3` VALUES('h101', '김갑수', '010-3333-2934', '12')\"\n",
    "cur.execute(sql)\n",
    "conn.commit()\n",
    "\n",
    "# 데이터베이스 종료\n",
    "cur.close()\n",
    "print('insert 완료...')"
   ]
  },
  {
   "cell_type": "code",
   "execution_count": 3,
   "metadata": {},
   "outputs": [
    {
     "name": "stdout",
     "output_type": "stream",
     "text": [
      "Update 완료...\n"
     ]
    }
   ],
   "source": [
    "# update 실습\n",
    "# 데이터베이스 접속\n",
    "conn = pymysql.connect(host='127.0.0.1', \n",
    "                        user='root', \n",
    "                        password='1234', \n",
    "                        db='java2db', \n",
    "                        charset='utf8')\n",
    "\n",
    "# SQL 실행객체\n",
    "cur = conn.cursor()\n",
    "\n",
    "# SQL 실행\n",
    "sql = \"UPDATE `user3` SET \"\n",
    "sql += \"`name`='홍길동',\"\n",
    "sql +=\"`hp`='010-1111-1111',\"\n",
    "sql += \"`age`='30' \"\n",
    "sql += \"WHERE `uid`='h101'\"\n",
    "\n",
    "cur.execute(sql)\n",
    "conn.commit()\n",
    "\n",
    "# 데이터베이스 종료\n",
    "cur.close()\n",
    "print('Update 완료...')"
   ]
  },
  {
   "cell_type": "code",
   "execution_count": 5,
   "metadata": {},
   "outputs": [
    {
     "name": "stdout",
     "output_type": "stream",
     "text": [
      "Delete 완료...\n"
     ]
    }
   ],
   "source": [
    "# delete 실습\n",
    "# 데이터베이스 접속\n",
    "conn = pymysql.connect(host='127.0.0.1', \n",
    "                        user='root', \n",
    "                        password='1234', \n",
    "                        db='java2db', \n",
    "                        charset='utf8')\n",
    "\n",
    "# SQL 실행객체\n",
    "cur = conn.cursor()\n",
    "\n",
    "# SQL 실행\n",
    "sql = \"DELETE FROM `user3` WHERE `uid` = 'h101' \"\n",
    "\n",
    "cur.execute(sql)\n",
    "conn.commit()\n",
    "\n",
    "# 데이터베이스 종료\n",
    "cur.close()\n",
    "print('Delete 완료...')"
   ]
  },
  {
   "cell_type": "code",
   "execution_count": 13,
   "metadata": {},
   "outputs": [
    {
     "name": "stdout",
     "output_type": "stream",
     "text": [
      "Delete 완료...\n",
      "----------------------\n",
      "아이디 : a101\n",
      "이름 : 김유신\n",
      "휴대폰 : 010-1234-1001\n",
      "나이 : 30\n",
      "----------------------\n",
      "아이디 : a102\n",
      "이름 : 김춘추\n",
      "휴대폰 : 010-1234-1002\n",
      "나이 : 23\n",
      "----------------------\n",
      "아이디 : a103\n",
      "이름 : 장보고\n",
      "휴대폰 : 010-1234-1003\n",
      "나이 : 33\n",
      "----------------------\n",
      "아이디 : a105\n",
      "이름 : 이순신\n",
      "휴대폰 : 010-1234-1005\n",
      "나이 : 53\n",
      "----------------------\n",
      "아이디 : a201\n",
      "이름 : 김유신\n",
      "휴대폰 : 010-1234-1007\n",
      "나이 : 53\n",
      "----------------------\n",
      "아이디 : s102\n",
      "이름 : 아무개\n",
      "휴대폰 : 010-1234-1111\n",
      "나이 : 27\n"
     ]
    }
   ],
   "source": [
    "# SELECT 실습\n",
    "\n",
    "from sub.User3VO import User3VO\n",
    "\n",
    "# 데이터베이스 접속\n",
    "conn = pymysql.connect(host='127.0.0.1', \n",
    "                        user='root', \n",
    "                        password='1234', \n",
    "                        db='java2db', \n",
    "                        charset='utf8')\n",
    "\n",
    "# SQL 실행객체\n",
    "cur = conn.cursor()\n",
    "\n",
    "# SQL 실행\n",
    "sql = \"SELECT * FROM `user3`\"\n",
    "\n",
    "cur.execute(sql)\n",
    "conn.commit()\n",
    "\n",
    "# 결과 데이터 생성\n",
    "users = []\n",
    "\n",
    "for row in cur.fetchall():\n",
    "\n",
    "    user = User3VO(row[0], row[1], row[2], row[3])\n",
    "    users.append(user)\n",
    "\n",
    "# 데이터베이스 종료\n",
    "cur.close()\n",
    "print('Select 완료...')\n",
    "\n",
    "# 결과출력\n",
    "for user in users:\n",
    "    print('----------------------')\n",
    "    print('아이디 :', user.uid)\n",
    "    print('이름 :', user.name)\n",
    "    print('휴대폰 :', user.hp)\n",
    "    print('나이 :', user.age)\n"
   ]
  }
 ],
 "metadata": {
  "kernelspec": {
   "display_name": "Python 3",
   "language": "python",
   "name": "python3"
  },
  "language_info": {
   "codemirror_mode": {
    "name": "ipython",
    "version": 3
   },
   "file_extension": ".py",
   "mimetype": "text/x-python",
   "name": "python",
   "nbconvert_exporter": "python",
   "pygments_lexer": "ipython3",
   "version": "3.11.1 (tags/v3.11.1:a7a450f, Dec  6 2022, 19:58:39) [MSC v.1934 64 bit (AMD64)]"
  },
  "orig_nbformat": 4,
  "vscode": {
   "interpreter": {
    "hash": "5868237a719c5308d34c8911a17794e6baa898a055f8bd5fbd9df195d03bb563"
   }
  }
 },
 "nbformat": 4,
 "nbformat_minor": 2
}
