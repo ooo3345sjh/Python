{
 "cells": [
  {
   "cell_type": "code",
   "execution_count": 3,
   "metadata": {},
   "outputs": [
    {
     "data": {
      "text/plain": [
       "'\\n날짜 : 2023/01/04\\n이름 : 서정현\\n내용 : 파이썬 자료구조 List 실습하기\\n'"
      ]
     },
     "execution_count": 3,
     "metadata": {},
     "output_type": "execute_result"
    }
   ],
   "source": [
    "\"\"\"\n",
    "날짜 : 2023/01/04\n",
    "이름 : 서정현\n",
    "내용 : 파이썬 자료구조 List 실습하기\n",
    "\"\"\""
   ]
  },
  {
   "cell_type": "code",
   "execution_count": 6,
   "metadata": {},
   "outputs": [
    {
     "name": "stdout",
     "output_type": "stream",
     "text": [
      "data type \" <class 'list'>\n",
      "data[0] : 1\n",
      "data[1] : 2\n",
      "data[2] : 3\n",
      "data[3] : 4\n"
     ]
    }
   ],
   "source": [
    "# 리스트\n",
    "data = [1, 2, 3, 4, 5]\n",
    "print('data type \"', type(data))\n",
    "print('data[0] :', data[0])\n",
    "print('data[1] :', data[1])\n",
    "print('data[2] :', data[2])\n",
    "print('data[3] :', data[3])"
   ]
  },
  {
   "cell_type": "code",
   "execution_count": 10,
   "metadata": {},
   "outputs": [
    {
     "name": "stdout",
     "output_type": "stream",
     "text": [
      "data type \" <class 'list'>\n",
      "data[0] : 5\n",
      "data[0] type : <class 'int'>\n",
      "data[1] : 3.14\n",
      "data[1] type : <class 'float'>\n",
      "data[2] : True\n",
      "data[2] type : <class 'bool'>\n",
      "data[3] : Apple\n",
      "data[3] type : <class 'str'>\n"
     ]
    }
   ],
   "source": [
    "# 여러 종류 데이터를 저장하는 리스트\n",
    "data = [5, 3.14, True, 'Apple']\n",
    "print('data type \"', type(data))\n",
    "print('data[0] :', data[0])\n",
    "print('data[0] type :', type(data[0]))\n",
    "print('data[1] :', data[1])\n",
    "print('data[1] type :', type(data[1]))\n",
    "print('data[2] :', data[2])\n",
    "print('data[2] type :', type(data[2]))\n",
    "print('data[3] :', data[3])\n",
    "print('data[3] type :', type(data[3]))"
   ]
  },
  {
   "cell_type": "code",
   "execution_count": 12,
   "metadata": {},
   "outputs": [
    {
     "name": "stdout",
     "output_type": "stream",
     "text": [
      "date[0][0] : 1\n",
      "date[1][1] : 5\n",
      "date[2][1] : 8\n"
     ]
    }
   ],
   "source": [
    "# 다차원 리스트\n",
    "data = [[1, 2, 3],\n",
    "        [4, 5, 6],\n",
    "        [7, 8, 9]]\n",
    "print('date[0][0] :', data[0][0])\n",
    "print('date[1][1] :', data[1][1])\n",
    "print('date[2][1] :', data[2][1])"
   ]
  },
  {
   "cell_type": "code",
   "execution_count": 20,
   "metadata": {},
   "outputs": [
    {
     "name": "stdout",
     "output_type": "stream",
     "text": [
      "data : [1, 7, 3, 4, 5]\n",
      "data : [1, 7, 7, 8, 9, 5]\n",
      "data : [1, 7, 7, 5]\n"
     ]
    }
   ],
   "source": [
    "# 리스트 수정, 추가, 삭제\n",
    "data = [1, 2, 3, 4, 5]\n",
    "\n",
    "data[1] = 7\n",
    "print('data :', data)\n",
    "\n",
    "data[2:4] = [7, 8, 9]\n",
    "print('data :', data)\n",
    "\n",
    "data[3:5] = []\n",
    "print('data :', data)"
   ]
  },
  {
   "cell_type": "code",
   "execution_count": 29,
   "metadata": {},
   "outputs": [
    {
     "name": "stdout",
     "output_type": "stream",
     "text": [
      "n : 1\n",
      "n : 3\n",
      "n : 5\n",
      "n : 7\n",
      "n : 9\n",
      "city : 서울\n",
      "city : 대전\n",
      "city : 대구\n",
      "city : 부산\n",
      "city : 광주\n",
      "cities[0] : 서울\n",
      "cities[1] : 대전\n",
      "cities[2] : 대구\n",
      "cities[3] : 부산\n",
      "cities[4] : 광주\n"
     ]
    }
   ],
   "source": [
    "# 리스트 반복문\n",
    "data = [1, 3, 5, 7, 9]\n",
    "for n in data:\n",
    "    print('n :', n)\n",
    "\n",
    "cities = ['서울', '대전', '대구', '부산', '광주']\n",
    "for city in cities:\n",
    "    print('city :', city)\n",
    "\n",
    "for index, value in enumerate(cities):\n",
    "    print('cities[%d] : %s' % (index, value))"
   ]
  },
  {
   "cell_type": "code",
   "execution_count": 33,
   "metadata": {},
   "outputs": [
    {
     "name": "stdout",
     "output_type": "stream",
     "text": [
      "[2, 4, 6, 8, 10]\n",
      "[3, 9, 15]\n"
     ]
    }
   ],
   "source": [
    "# 리스트 comprehension\n",
    "data = [1, 2, 3, 4, 5]\n",
    "\n",
    "rs1 = [num * 2 for num in data]\n",
    "rs2 = [num * 3 for num in data if num % 2 == 1]\n",
    "\n",
    "print(rs1)\n",
    "print(rs2)"
   ]
  }
 ],
 "metadata": {
  "kernelspec": {
   "display_name": "Python 3",
   "language": "python",
   "name": "python3"
  },
  "language_info": {
   "codemirror_mode": {
    "name": "ipython",
    "version": 3
   },
   "file_extension": ".py",
   "mimetype": "text/x-python",
   "name": "python",
   "nbconvert_exporter": "python",
   "pygments_lexer": "ipython3",
   "version": "3.11.1"
  },
  "orig_nbformat": 4,
  "vscode": {
   "interpreter": {
    "hash": "5868237a719c5308d34c8911a17794e6baa898a055f8bd5fbd9df195d03bb563"
   }
  }
 },
 "nbformat": 4,
 "nbformat_minor": 2
}
