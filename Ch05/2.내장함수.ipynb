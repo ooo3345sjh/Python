{
 "cells": [
  {
   "cell_type": "code",
   "execution_count": 19,
   "metadata": {},
   "outputs": [],
   "source": [
    "\"\"\"\n",
    "날짜 : 2023/01/06\n",
    "이름 : 서정현\n",
    "내용 : 파이썬 내장함수 실습하기\n",
    "\"\"\"\n",
    "\n",
    "import time\n",
    "import math\n",
    "import random"
   ]
  },
  {
   "cell_type": "code",
   "execution_count": 40,
   "metadata": {},
   "outputs": [
    {
     "name": "stdout",
     "output_type": "stream",
     "text": [
      "t1 : 1672988018.7017784\n",
      "t2 : Fri Jan  6 15:53:38 2023\n",
      "now : time.struct_time(tm_year=2023, tm_mon=1, tm_mday=6, tm_hour=15, tm_min=53, tm_sec=38, tm_wday=4, tm_yday=6, tm_isdst=0)\n",
      "2023년 1월 6일 15:53:38\n",
      "2023년 01월 06일 Fri(5)요일 15:53:38\n"
     ]
    }
   ],
   "source": [
    "# 시간날짜 함수\n",
    "t1 = time.time()\n",
    "print('t1 :', t1)\n",
    "\n",
    "t2 = time.ctime()\n",
    "print('t2 :', t2)\n",
    "\n",
    "now = time.localtime(time.time())\n",
    "year = time.strftime('%Y', now)\n",
    "month = time.strftime('%m', now)\n",
    "day = time.strftime('%d', now)\n",
    "hour = time.strftime('%H', now)\n",
    "min = time.strftime('%M', now)\n",
    "sec = time.strftime('%S', now)\n",
    "yoil1 = time.strftime('%a', now) # 요일 줄임말 Sun, Mon, … Sat\n",
    "yoil2 = time.strftime('%w', now) # 요일을 숫자로 표시, 월~일 0, 1, …, 6\n",
    "\n",
    "\n",
    "print('now :', now)\n",
    "print('{}년 {}월 {}일 {}:{}:{}'.format(now.tm_year, now.tm_mon, now.tm_mday, now.tm_hour, now.tm_min, now.tm_sec)) # 이렇게 사용 X\n",
    "print('{}년 {}월 {}일 {}({})요일 {}:{}:{}'.format(year, month, day, yoil1, yoil2,  hour, min, sec))\n",
    "\n",
    "\n"
   ]
  },
  {
   "cell_type": "code",
   "execution_count": 21,
   "metadata": {},
   "outputs": [
    {
     "name": "stdout",
     "output_type": "stream",
     "text": [
      "r1 : 2\n",
      "r2 : 2\n",
      "r3 : 1\n",
      "r4 : 1\n",
      "r5 : 1\n",
      "r6 : 2\n"
     ]
    }
   ],
   "source": [
    "# 수학 함수\n",
    "r1 = math.ceil(1.2)\n",
    "r2 = math.ceil(1.8)\n",
    "r3 = math.floor(1.2)\n",
    "r4 = math.floor(1.8)\n",
    "r5 = round(1.2)\n",
    "r6 = round(1.8)\n",
    "\n",
    "print('r1 :', r1)\n",
    "print('r2 :', r2)\n",
    "print('r3 :', r3)\n",
    "print('r4 :', r4)\n",
    "print('r5 :', r5)\n",
    "print('r6 :', r6)\n",
    "\n"
   ]
  },
  {
   "cell_type": "code",
   "execution_count": 61,
   "metadata": {},
   "outputs": [
    {
     "name": "stdout",
     "output_type": "stream",
     "text": [
      "num1 : 0.01852069817232682\n",
      "num2 : 0.18520698172326822\n",
      "num3 : 1\n",
      "num4 : 20\n"
     ]
    }
   ],
   "source": [
    "# 랜덤 함수\n",
    "num1 = random.random()\n",
    "print('num1 :', num1)\n",
    "\n",
    "num2 = num1 * 10\n",
    "print('num2 :', num2)\n",
    "\n",
    "num3 = math.ceil(num2)\n",
    "print('num3 :', num3)\n",
    "\n",
    "num4 = random.randint(20, 30) # a <= num4 <= b\n",
    "print('num4 :', num4)\n"
   ]
  }
 ],
 "metadata": {
  "kernelspec": {
   "display_name": "Python 3",
   "language": "python",
   "name": "python3"
  },
  "language_info": {
   "codemirror_mode": {
    "name": "ipython",
    "version": 3
   },
   "file_extension": ".py",
   "mimetype": "text/x-python",
   "name": "python",
   "nbconvert_exporter": "python",
   "pygments_lexer": "ipython3",
   "version": "3.11.1"
  },
  "orig_nbformat": 4,
  "vscode": {
   "interpreter": {
    "hash": "5868237a719c5308d34c8911a17794e6baa898a055f8bd5fbd9df195d03bb563"
   }
  }
 },
 "nbformat": 4,
 "nbformat_minor": 2
}
